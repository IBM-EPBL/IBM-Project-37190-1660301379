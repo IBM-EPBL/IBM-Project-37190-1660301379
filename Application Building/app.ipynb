{
  "cells": [
    {
      "cell_type": "code",
      "source": [
        "from flask import Flask, Response, render_template\n",
        "from camera import Video\n",
        "\n",
        "app = Flask(__name__)\n",
        "@app.route('/')\n",
        "def index():\n",
        "\treturn render_template('index.html')\n",
        "\n",
        "def gen(camera):\n",
        "\twhile True:\n",
        "\t\tframe = camera.get_frame()\n",
        "\t\tyield(b'--frame\\r\\n'\n",
        "\t\t\tb'Content-Type: image/jpeg\\r\\n\\r\\n' + frame +\n",
        "\t\t\tb'\\r\\n\\r\\n')\n",
        "\n",
        "@app.route('/video_feed')\n",
        "def video_feed():\n",
        "\tvideo = Video()\n",
        "\treturn Response(gen(video), mimetype='multipart/x-mixed-replace; boundary = frame')\n",
        "\n",
        "\n",
        "if __name__ == '__main__':\n",
        "\tapp.run()"
      ],
      "metadata": {
        "id": "CVi10UodkBmZ"
      },
      "execution_count": null,
      "outputs": []
    }
  ],
  "metadata": {
    "colab": {
      "collapsed_sections": [],
      "name": "Welcome To Colaboratory",
      "toc_visible": true,
      "provenance": []
    },
    "kernelspec": {
      "display_name": "Python 3",
      "name": "python3"
    }
  },
  "nbformat": 4,
  "nbformat_minor": 0
}